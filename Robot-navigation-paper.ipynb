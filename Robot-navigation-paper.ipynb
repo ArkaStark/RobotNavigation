{
 "cells": [
  {
   "cell_type": "markdown",
   "id": "eb941f39-ba19-4498-988b-db2a3b7f97c0",
   "metadata": {},
   "source": [
    "# Stereo Robot Navigation\n",
    "## Federico Calzoni, Lorenza Guerriero, Arka Patra"
   ]
  },
  {
   "cell_type": "markdown",
   "id": "7ceafffe-5cb8-485c-9948-5e112aa4ac18",
   "metadata": {},
   "source": [
    "### Introduction\n",
    "The ability of an autonomous vehicle to sense obstacles and navigate its surroundings is a key role in the development of modern robots. For this reason we present a project in which a robot, through the principle of a stereo camera, is able to perceive the obstacles in front of his view. Such technology could be implemented by a navigation system for autonomous vehicles to automatically avoid obstacles."
   ]
  },
  {
   "cell_type": "markdown",
   "id": "4b867cee",
   "metadata": {},
   "source": [
    "### Objective\n",
    "The objective of the project aims to use synchronized video sequences captured by a stereo camera mounted on a moving vehicle to detect spatial information of the frontal environment. The primary task is to develop an area-based stereo matching algorithm capable of generating a dense disparity map from the syncronized stereo camera inputs (robotL.avi for the left view, robotR.avi for the right view). Then by using geometrical calculations an extimated distance from the robot to the central area of the view need to be calculated. Additionally, an alarm is triggered whenever the distance falls below 0.8 meters.\n",
    "Finally, given that in the center of the sciene there is a chessboard. The dimension of it (height and width) must be computed. This will be useful in order to compare it to the real values and give an extimation of the accuracy of the method used.  \n",
    "\n",
    "\n",
    "#Todo explain better (Functional Specifications)\n",
    "\n",
    "The system follows a series of steps to achieve its objectives:\n",
    "\n",
    "1) Disparity Map Computation\\\n",
    "Compute the disparity map in a central area of the reference frame to sense distances in the portion of the environment relevant to the vehicle's trajectory.\n",
    "\n",
    "2) Main Disparity Estimation\\\n",
    "Estimate the main disparity for the frontal portion of the environment based on the disparity map of the central area of the reference frame.\n",
    "\n",
    "3) Distance Calculation\\\n",
    "Determine the distance of the obstacle from the moving vehicle based on the main disparities estimated from each pair of frames.\n",
    "\n",
    "4) Output Generation and Alarm Trigger\\\n",
    "Generate output conveying distance information to the user and trigger an alarm when the distance falls below a predefined threshold.\n",
    "\n",
    "5) Estimate the size of the board\\\n",
    "Use the found board corners to estimate the size of the board. Then compare it with the real size of the known one (125mm x 178mm)\n"
   ]
  },
  {
   "cell_type": "markdown",
   "id": "8e3a5194",
   "metadata": {},
   "source": [
    "### Stereo Matching Algorithm\n",
    "\n",
    "The stereo matching algorithm computes the disparity map for each pair of synchronized frames. The algorithm utilizes the Sum of Absolute Differences (SAD) dissimilarity measure to compare intensities between corresponding points in the left and right images.\n",
    "\n",
    "# todo explain SAD"
   ]
  },
  {
   "cell_type": "markdown",
   "id": "c677d9e0",
   "metadata": {},
   "source": [
    "### Distance Estimation\n",
    "\n",
    "Based on the computed disparity map, the system estimates the main disparity for the frontal portion of the environment. Using the provided parameters (focal length and baseline), it calculates the distance (in mm) of obstacles from the moving vehicle.\n",
    "\n",
    "# todo:explain formula\n"
   ]
  },
  {
   "cell_type": "markdown",
   "id": "6a84f915-e5a3-4f1c-9636-cafc06343887",
   "metadata": {},
   "source": [
    "# explain code (Implementation Details)\n",
    "\n",
    "Algorithm Development:\n",
    "The stereo matching algorithm is developed based on the SAD dissimilarity measure. It compares intensities between corresponding points in rectified images to compute the disparity map.\n",
    "\n",
    "2 Parameter Selection\n",
    "The size of the window for matching and the fixed disparity range. \n",
    "\n",
    "3 Output Generation\n",
    "The system generates output in each pair of frames, conveying distance information from the camera to the obstacle. An alarm is triggered when the distance goes below 0.8 meters. "
   ]
  },
  {
   "cell_type": "markdown",
   "id": "e4463d33-dfc1-4be3-a4d4-5cd34869850c",
   "metadata": {},
   "source": [
    "# todo (Results)\n",
    "\n",
    "# todo (Conclusions and enhancements that can be done)\n"
   ]
  },
  {
   "cell_type": "markdown",
   "id": "ecb4d752-eb49-4751-a9e3-422ad4103b7a",
   "metadata": {},
   "source": [
    "# References\n",
    "# todo"
   ]
  },
  {
   "cell_type": "code",
   "execution_count": null,
   "id": "d1db91b9-7c5c-4d0e-9e70-042a10249c18",
   "metadata": {},
   "outputs": [],
   "source": []
  }
 ],
 "metadata": {
  "kernelspec": {
   "display_name": "Python 3 (ipykernel)",
   "language": "python",
   "name": "python3"
  },
  "language_info": {
   "codemirror_mode": {
    "name": "ipython",
    "version": 3
   },
   "file_extension": ".py",
   "mimetype": "text/x-python",
   "name": "python",
   "nbconvert_exporter": "python",
   "pygments_lexer": "ipython3",
   "version": "3.11.8"
  }
 },
 "nbformat": 4,
 "nbformat_minor": 5
}
