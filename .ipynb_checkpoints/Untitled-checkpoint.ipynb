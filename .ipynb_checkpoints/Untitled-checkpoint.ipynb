{
 "cells": [
  {
   "cell_type": "markdown",
   "id": "eb941f39-ba19-4498-988b-db2a3b7f97c0",
   "metadata": {},
   "source": [
    "# Stereo Robot Navigation\n",
    "## Federico Calzoni, Lorenza Guerriero, Arka Patra"
   ]
  },
  {
   "cell_type": "markdown",
   "id": "7ceafffe-5cb8-485c-9948-5e112aa4ac18",
   "metadata": {},
   "source": [
    "### Introduction\n",
    "#### The ability of an autonomous vehicle to sense obstacles and navigate its surroundings is a key role in the development of modern robots. For this reason we present a project in which a robot, through the principle of a stereo camera, is able to perceive the obstacles in front of his view. Such technology could be implemented by a navigation system for autonomous vehicles to automatically avoid obstacles.\n",
    "\n",
    "#### The objective of the project aims to use synchronized video sequences captured by a stereo camera mounted on a moving vehicle to detect spatial information of the frontal environment.\n"
   ]
  },
  {
   "cell_type": "code",
   "execution_count": null,
   "id": "0feec2c1-6266-442b-bcd5-e938d0713f36",
   "metadata": {},
   "outputs": [],
   "source": []
  },
  {
   "cell_type": "markdown",
   "id": "725ff8d1-1224-44b2-a37c-cafbcfef2082",
   "metadata": {},
   "source": []
  }
 ],
 "metadata": {
  "kernelspec": {
   "display_name": "Python 3 (ipykernel)",
   "language": "python",
   "name": "python3"
  },
  "language_info": {
   "codemirror_mode": {
    "name": "ipython",
    "version": 3
   },
   "file_extension": ".py",
   "mimetype": "text/x-python",
   "name": "python",
   "nbconvert_exporter": "python",
   "pygments_lexer": "ipython3",
   "version": "3.11.8"
  }
 },
 "nbformat": 4,
 "nbformat_minor": 5
}
